{
 "cells": [
  {
   "cell_type": "markdown",
   "metadata": {},
   "source": [
    "# Police Plotter\n",
    "Downloads all police press logs from franklinma.gov, parses the log files, and stores them in a database. Policed incidents can then be analyzed. Original purpose was for predicting speed traps based on historical data. All data has been downloaded and update as of 5-28-2020. Go to [Map data](#map_data) for plotting. "
   ]
  },
  {
   "cell_type": "markdown",
   "metadata": {},
   "source": [
    "## Download reports"
   ]
  },
  {
   "cell_type": "code",
   "execution_count": null,
   "metadata": {},
   "outputs": [],
   "source": [
    "from collector import *\n",
    "\n",
    "download()"
   ]
  },
  {
   "cell_type": "markdown",
   "metadata": {},
   "source": [
    "## Parse reports"
   ]
  },
  {
   "cell_type": "code",
   "execution_count": null,
   "metadata": {},
   "outputs": [],
   "source": [
    "from pdfparser import *\n",
    "\n",
    "parse_start()"
   ]
  },
  {
   "cell_type": "markdown",
   "metadata": {},
   "source": [
    "## Geocode addreses in reports"
   ]
  },
  {
   "cell_type": "code",
   "execution_count": null,
   "metadata": {},
   "outputs": [],
   "source": [
    "from geocode import *\n",
    "\n",
    "# Uploads addresses to geocode.io for geocoding. \n",
    "create_upload_csv(\"addr_upload.csv\")"
   ]
  },
  {
   "cell_type": "code",
   "execution_count": null,
   "metadata": {},
   "outputs": [],
   "source": [
    "# Parses addresses and adds them to the database from geocode.io.\n",
    "# If geocoded address is inaccurate, then it isn't added and prints warning message. \n",
    "# Must manually edit the input csv into the function to get rid of inaccurate results. \n",
    "parse_geocodio(\"addr_download.csv\")"
   ]
  },
  {
   "cell_type": "markdown",
   "metadata": {},
   "source": [
    "## Map data <a id='map_data'></a>\n",
    "Note: requires a valid Google Maps API Key"
   ]
  },
  {
   "cell_type": "code",
   "execution_count": 2,
   "metadata": {},
   "outputs": [],
   "source": [
    "#Get Google Maps API key\n",
    "import os\n",
    "gmaps_key = os.environ.get(\"GMAPS_KEY\")\n",
    "\n",
    "if gmaps_key is None:\n",
    "    print(\"Google Maps API Key not set in Environment Variables\")"
   ]
  },
  {
   "cell_type": "code",
   "execution_count": 5,
   "metadata": {},
   "outputs": [],
   "source": [
    "import constants\n",
    "import sqlite3\n",
    "import gmaps\n",
    "import gmaps.datasets\n",
    "\n",
    "conn = sqlite3.connect(constants.DB_DIR)\n",
    "c = conn.cursor()\n",
    "\n",
    "gmaps.configure(api_key=gmaps_key)\n",
    "use_street_centers = False\n",
    "\n",
    "cmd = \"SELECT * FROM incidents WHERE type='MOTOR VEHICLE, VIOLATION'\"\n",
    "records = c.execute(cmd).fetchall()\n",
    "\n",
    "points = {}\n",
    "for rec in records:\n",
    "    addr = rec[2]\n",
    "    coords = c.execute(\"SELECT * FROM coords WHERE address=?\", (addr,)).fetchone()\n",
    "    if coords is None or (not use_street_centers and coords[3] == 1):\n",
    "        continue\n",
    "    coord_pair = (float(coords[1]), float(coords[2]))\n",
    "    if coord_pair not in points:\n",
    "        points[coord_pair] = 1.0\n",
    "    else:\n",
    "        points[coord_pair] += 1\n",
    "\n",
    "coord_plot = []\n",
    "weights = []\n",
    "for (lat, lon), v in points.items():\n",
    "    coord_plot.append((lat, lon))\n",
    "    weights.append(v)\n",
    "\n"
   ]
  },
  {
   "cell_type": "code",
   "execution_count": 6,
   "metadata": {},
   "outputs": [
    {
     "data": {
      "application/vnd.jupyter.widget-view+json": {
       "model_id": "b013e5df0d3e46899d49d69ff2c06d67",
       "version_major": 2,
       "version_minor": 0
      },
      "text/plain": [
       "Figure(layout=FigureLayout(height='420px'))"
      ]
     },
     "metadata": {},
     "output_type": "display_data"
    }
   ],
   "source": [
    "fig = gmaps.figure()\n",
    "fig.add_layer(gmaps.heatmap_layer(coord_plot, \n",
    "                                  point_radius=20, \n",
    "                                  weights=weights,\n",
    "                                  opacity=0.8,\n",
    "                                  dissipating=True,\n",
    "                                  max_intensity=150\n",
    "                                 ))\n",
    "\n",
    "fig"
   ]
  },
  {
   "cell_type": "code",
   "execution_count": null,
   "metadata": {},
   "outputs": [],
   "source": [
    "# scratch pad\n",
    "dict = {(123, 234): 0}\n",
    "dict[(123,234)] += 1\n",
    "print(dict[(123,234)])\n"
   ]
  }
 ],
 "metadata": {
  "kernelspec": {
   "display_name": "Python 3",
   "language": "python",
   "name": "python3"
  },
  "language_info": {
   "codemirror_mode": {
    "name": "ipython",
    "version": 3
   },
   "file_extension": ".py",
   "mimetype": "text/x-python",
   "name": "python",
   "nbconvert_exporter": "python",
   "pygments_lexer": "ipython3",
   "version": "3.7.4"
  }
 },
 "nbformat": 4,
 "nbformat_minor": 4
}
